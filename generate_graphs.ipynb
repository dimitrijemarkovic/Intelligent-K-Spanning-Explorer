{
 "cells": [
  {
   "cell_type": "code",
   "execution_count": 1,
   "id": "1d312c8f-4937-481b-8a3e-9f43de6ed24e",
   "metadata": {},
   "outputs": [
    {
     "name": "stdout",
     "output_type": "stream",
     "text": [
      "Direktorijum 'data_sets' je obrisan.\n"
     ]
    }
   ],
   "source": [
    "import networkx as nx\n",
    "import pickle\n",
    "import os\n",
    "import shutil\n",
    "\n",
    "def generisi_i_sacuvaj_grafove_regularne(k, brojevi_cvorova, direktorijum='data_sets'):\n",
    "\n",
    "    if os.path.exists(direktorijum):\n",
    "        shutil.rmtree(direktorijum)\n",
    "        print(f\"Direktorijum '{direktorijum}' je obrisan.\")\n",
    "    else:\n",
    "        print(f\"Direktorijum '{direktorijum}' ne postoji.\")\n",
    "    \n",
    "    os.makedirs(direktorijum, exist_ok=True)\n",
    "\n",
    "    for i, broj_cvorova in enumerate(brojevi_cvorova, start=1):\n",
    "        while True:\n",
    "            G = nx.random_regular_graph(k + 2, broj_cvorova)\n",
    "            if nx.node_connectivity(G) >= k:\n",
    "                break;\n",
    "\n",
    "        ime_fajla = os.path.join(direktorijum, f'graf_{i}.pkl')\n",
    "        with open(ime_fajla, 'wb') as file:\n",
    "            pickle.dump(G, file)\n",
    "\n",
    "brojevi_cvorova = [15, 20, 30, 40, 50, 60, 70, 80, 90, 100]\n",
    "\n",
    "generisi_i_sacuvaj_grafove_regularne(4, brojevi_cvorova)"
   ]
  },
  {
   "cell_type": "code",
   "execution_count": null,
   "id": "0baf7fe8-b90f-4d6a-8ed7-742414bedd44",
   "metadata": {},
   "outputs": [],
   "source": []
  }
 ],
 "metadata": {
  "kernelspec": {
   "display_name": "Python 3 (ipykernel)",
   "language": "python",
   "name": "python3"
  },
  "language_info": {
   "codemirror_mode": {
    "name": "ipython",
    "version": 3
   },
   "file_extension": ".py",
   "mimetype": "text/x-python",
   "name": "python",
   "nbconvert_exporter": "python",
   "pygments_lexer": "ipython3",
   "version": "3.8.5"
  }
 },
 "nbformat": 4,
 "nbformat_minor": 5
}
