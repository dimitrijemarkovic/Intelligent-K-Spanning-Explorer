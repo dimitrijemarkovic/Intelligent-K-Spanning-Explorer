{
 "cells": [
  {
   "cell_type": "code",
   "execution_count": 11,
   "id": "9c132c5c",
   "metadata": {},
   "outputs": [],
   "source": [
    "%run algorithms.ipynb"
   ]
  },
  {
   "cell_type": "code",
   "execution_count": 12,
   "id": "15939f8e",
   "metadata": {},
   "outputs": [],
   "source": [
    "def ucitaj_grafove_iz_dir(direktorijum='data_sets'):\n",
    "    ucitani_grafovi = []\n",
    "\n",
    "    for ime_fajla in os.listdir(direktorijum):\n",
    "        if ime_fajla.endswith(\".pkl\"):\n",
    "            putanja = os.path.join(direktorijum, ime_fajla)\n",
    "            with open(putanja, 'rb') as file:\n",
    "                ucitani_graf = pickle.load(file)\n",
    "                ucitani_grafovi.append(ucitani_graf)\n",
    "\n",
    "    return ucitani_grafovi"
   ]
  },
  {
   "cell_type": "code",
   "execution_count": 13,
   "id": "2f4e7fcc",
   "metadata": {},
   "outputs": [],
   "source": [
    "ucitani_grafovi = ucitaj_grafove_iz_dir()"
   ]
  },
  {
   "cell_type": "code",
   "execution_count": 14,
   "id": "9b7fa6e8",
   "metadata": {},
   "outputs": [],
   "source": [
    "def ispisi_informacije_o_grafu(indeks,bf = False):\n",
    "    direktorijum='data_sets'\n",
    "    ime_fajla = f'graf_{indeks}.pkl'\n",
    "    putanja = os.path.join(direktorijum, ime_fajla)\n",
    "\n",
    "    if os.path.exists(putanja):\n",
    "        with open(putanja, 'rb') as file:\n",
    "            ucitani_graf = pickle.load(file)\n",
    "            print(f\"Informacije o grafu {indeks}:\")\n",
    "            print(f\"  Broj čvorova: {len(ucitani_graf.nodes)}\")\n",
    "            print(f\"  Broj grana: {len(ucitani_graf.edges)}\\n\")\n",
    "            final_solution = vns_algorithm(ucitani_graf, 3, 10)\n",
    "            print(f'Broj grana vns resenja je: {len(final_solution.edges)}\\n')\n",
    "            if bf is True:\n",
    "                brute_force_algorithm(ucitani_graf, 3)\n",
    "            final_solution, elapsed_time_greedy = greedy_algorithm(ucitani_graf, 3, 20)\n",
    "            print(f'Broj grana greedy resenja je: {len(final_solution.edges)}')\n",
    "            print(f'Vreme potrebno za izvrsavanje greedy algoritma: {elapsed_time_greedy:.3f} seconds')\n",
    "            \n",
    "            \n",
    "    else:\n",
    "        print(f\"Graf {indeks} ne postoji u direktorijumu {direktorijum}.\")"
   ]
  },
  {
   "cell_type": "code",
   "execution_count": null,
   "id": "726b16e2",
   "metadata": {},
   "outputs": [
    {
     "name": "stdout",
     "output_type": "stream",
     "text": [
      "Informacije o grafu 6:\n",
      "  Broj čvorova: 65\n",
      "  Broj grana: 195\n",
      "\n",
      "Pronadjeno je bolje resenje\n",
      "Pronadjeno je bolje resenje\n",
      "Broj grana vns resenja je: 100\n",
      "\n",
      "Broj grana greedy resenja je: 99\n",
      "Vreme potrebno za izvrsavanje greedy algoritma: 2.029 seconds\n",
      "Broj grana greedy resenja je: 100\n",
      "Vreme potrebno za izvrsavanje greedy algoritma: 2.343 seconds\n",
      "Broj grana greedy resenja je: 101\n",
      "Vreme potrebno za izvrsavanje greedy algoritma: 1.981 seconds\n",
      "Broj grana greedy resenja je: 100\n",
      "Vreme potrebno za izvrsavanje greedy algoritma: 2.008 seconds\n",
      "Broj grana greedy resenja je: 100\n",
      "Vreme potrebno za izvrsavanje greedy algoritma: 2.052 seconds\n",
      "Izmenio sam bf\n",
      "______\n",
      "-----------------------------------------------------\n",
      "Informacije o grafu 7:\n",
      "  Broj čvorova: 70\n",
      "  Broj grana: 210\n",
      "\n",
      "Pronadjeno je bolje resenje\n",
      "Pronadjeno je bolje resenje\n",
      "Pronadjeno je bolje resenje\n",
      "Pronadjeno je bolje resenje\n",
      "Broj grana vns resenja je: 108\n",
      "\n",
      "Broj grana greedy resenja je: 108\n",
      "Vreme potrebno za izvrsavanje greedy algoritma: 2.334 seconds\n",
      "Broj grana greedy resenja je: 108\n",
      "Vreme potrebno za izvrsavanje greedy algoritma: 2.379 seconds\n",
      "Broj grana greedy resenja je: 108\n",
      "Vreme potrebno za izvrsavanje greedy algoritma: 2.301 seconds\n",
      "Broj grana greedy resenja je: 109\n",
      "Vreme potrebno za izvrsavanje greedy algoritma: 2.313 seconds\n",
      "Broj grana greedy resenja je: 108\n",
      "Vreme potrebno za izvrsavanje greedy algoritma: 2.304 seconds\n",
      "Izmenio sam bf\n"
     ]
    }
   ],
   "source": [
    "for i in range(6,11):\n",
    "    bf = True\n",
    "    if i > 0:\n",
    "        bf = False\n",
    "    ispisi_informacije_o_grafu(i,bf)\n",
    "    print(\"-----------------------------------------------------\")"
   ]
  },
  {
   "cell_type": "code",
   "execution_count": null,
   "id": "d26bfec4",
   "metadata": {},
   "outputs": [],
   "source": []
  },
  {
   "cell_type": "code",
   "execution_count": null,
   "id": "470c3225-ca3f-4c84-9064-06e3b0a2ac83",
   "metadata": {},
   "outputs": [],
   "source": []
  },
  {
   "cell_type": "code",
   "execution_count": null,
   "id": "46cf80c5-4290-477c-9a21-3ad20df37be6",
   "metadata": {},
   "outputs": [],
   "source": []
  },
  {
   "cell_type": "code",
   "execution_count": null,
   "id": "a2c517d0-531b-44f4-bc3a-05d16628f9e2",
   "metadata": {},
   "outputs": [],
   "source": []
  }
 ],
 "metadata": {
  "kernelspec": {
   "display_name": "Python 3 (ipykernel)",
   "language": "python",
   "name": "python3"
  },
  "language_info": {
   "codemirror_mode": {
    "name": "ipython",
    "version": 3
   },
   "file_extension": ".py",
   "mimetype": "text/x-python",
   "name": "python",
   "nbconvert_exporter": "python",
   "pygments_lexer": "ipython3",
   "version": "3.8.5"
  }
 },
 "nbformat": 4,
 "nbformat_minor": 5
}
