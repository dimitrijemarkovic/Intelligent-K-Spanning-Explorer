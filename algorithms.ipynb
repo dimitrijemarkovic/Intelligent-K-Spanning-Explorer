{
 "cells": [
  {
   "cell_type": "code",
   "execution_count": 1,
   "id": "4fbc1ee3",
   "metadata": {},
   "outputs": [],
   "source": [
    "import os\n",
    "import random\n",
    "import pickle\n",
    "import networkx as nx\n",
    "import math\n",
    "import time\n",
    "from time import perf_counter\n",
    "import matplotlib.pyplot as plt\n",
    "from itertools import combinations"
   ]
  },
  {
   "cell_type": "code",
   "execution_count": 2,
   "id": "bcf344ae",
   "metadata": {},
   "outputs": [],
   "source": [
    "def solution_quality(solution):\n",
    "    return len(solution.nodes())"
   ]
  },
  {
   "cell_type": "code",
   "execution_count": 3,
   "id": "537a8acd",
   "metadata": {},
   "outputs": [],
   "source": [
    "def is_k_connected(G, k):\n",
    "    if G.number_of_nodes() < k:\n",
    "        return False\n",
    "    else:\n",
    "        return nx.node_connectivity(G) >= k"
   ]
  },
  {
   "cell_type": "code",
   "execution_count": 4,
   "id": "8357eaa3",
   "metadata": {},
   "outputs": [],
   "source": [
    "def remove_nodes_with_less_than_k_neighbors(G, k):\n",
    "    changed = True\n",
    "    while changed:\n",
    "        changed = False\n",
    "        nodes_to_remove = [node for node in G.nodes if G.degree(node) < k]\n",
    "        if nodes_to_remove:\n",
    "            G.remove_nodes_from(nodes_to_remove)\n",
    "            changed = True\n",
    "    return G"
   ]
  },
  {
   "cell_type": "code",
   "execution_count": 5,
   "id": "96d82f0c",
   "metadata": {},
   "outputs": [],
   "source": [
    "def shaking(G, k, current_solution):\n",
    "    # Dodavanje ili uklanjanje čvorova ili ivica\n",
    "    modified_solution = current_solution.copy()\n",
    "\n",
    "    if random.choice([True, False]):\n",
    "        # Remove randomly selected nodes, but not less than k\n",
    "        potential_nodes_to_remove = list(modified_solution.nodes())\n",
    "        # Calculate weights based on the number of neighbors\n",
    "        weights_to_remove = [G.degree(node) for node in potential_nodes_to_remove]\n",
    "        # Ensure k is not greater than the number of potential nodes to remove\n",
    "        k = min(k, len(potential_nodes_to_remove))\n",
    "        # Choose nodes to remove based on weights\n",
    "        nodes_to_remove = random.choices(potential_nodes_to_remove, weights=weights_to_remove, k=k)\n",
    "        modified_solution.remove_nodes_from(nodes_to_remove)\n",
    "    else:\n",
    "        # Add randomly selected nodes from the original graph\n",
    "        potential_nodes = list(set(G.nodes()) - set(modified_solution.nodes()))\n",
    "        # Calculate weights based on the number of neighbors\n",
    "        weights = [G.degree(node) for node in potential_nodes]\n",
    "        \n",
    "        # Ensure there are nodes available to add\n",
    "        if potential_nodes:\n",
    "            # Choose nodes to add based on weights\n",
    "            nodes_to_add = random.choices(potential_nodes, weights=weights, k=math.floor(len(potential_nodes)/2))\n",
    "            modified_solution.add_nodes_from(nodes_to_add)\n",
    "            \n",
    "            # Add corresponding edges\n",
    "            for node in nodes_to_add:\n",
    "                for neighbor in G.neighbors(node):\n",
    "                    # Ensure that the edge is added only if the neighbor is already in the modified solution\n",
    "                    if neighbor in modified_solution.nodes():\n",
    "                        modified_solution.add_edge(node, neighbor)\n",
    "    \n",
    "    # Provera da li je i dalje k-vezan\n",
    "   # print(f'shaking: broj cvorova pre pomeranja cvorova sa manje od k suseda: {modified_solution.number_of_nodes()}')\n",
    "    modified_solution = remove_nodes_with_less_than_k_neighbors(modified_solution, k)\n",
    "   # print(f'shaking: broj cvorova posle pomeranja cvorova sa manje od k suseda: {modified_solution.number_of_nodes()}')\n",
    "    if is_k_connected(modified_solution, k):\n",
    "     #   print(\"shaking: modifikovano resenje je prihvaljivo\")\n",
    "        return modified_solution\n",
    "    else:\n",
    "      #  print(\"shaking: modifikovano resenje nije prihvaljivo\")\n",
    "        return current_solution"
   ]
  },
  {
   "cell_type": "code",
   "execution_count": 6,
   "id": "a510738a",
   "metadata": {},
   "outputs": [],
   "source": [
    "def local_search(G, k, current_solution):\n",
    "    # Ova funkcija treba da smanji broj čvorova u rešenju, ako je to moguće\n",
    "    # Proverava da li može da ukloni bilo koji čvor a da i dalje ostane k-vezan\n",
    "  #  print(f'local_search: Broj cvorova na ulasku u local_search {current_solution.number_of_nodes()}')\n",
    "    temp_solution = current_solution.copy()\n",
    "    nodes = list(current_solution.nodes())\n",
    "    random.shuffle(nodes)\n",
    "    \n",
    "    for node in nodes:\n",
    "        temp_solution.remove_node(node)\n",
    "        \n",
    "        if not is_k_connected(temp_solution, k):\n",
    "            temp_solution.add_node(node)\n",
    "\n",
    "    temp_solution = G.subgraph(temp_solution.nodes())\n",
    "    \n",
    "    #print(f'local_search: Broj cvorova na izlasku iz local_search {temp_solution.number_of_nodes()} Broj grana na podgrafa {temp_solution.number_of_edges()}')\n",
    "\n",
    "    return temp_solution"
   ]
  },
  {
   "cell_type": "code",
   "execution_count": 7,
   "id": "0f5da8a2",
   "metadata": {},
   "outputs": [],
   "source": [
    "def vns_algorithm(G, k, max_iter=5):\n",
    "    start_time = perf_counter()\n",
    "    G = remove_nodes_with_less_than_k_neighbors(G, k)\n",
    "    best_solution = G.copy()\n",
    "    while perf_counter() - start_time < 30:\n",
    "        # Shaking\n",
    "        shaken_solution = shaking(G, k, best_solution)\n",
    "        # Local search\n",
    "        new_solution = local_search(G, k, shaken_solution)\n",
    "        \n",
    "        # Ažuriranje trenutnog rešenja ako je novo rešenje bolje\n",
    "        if solution_quality(new_solution) < solution_quality(best_solution):\n",
    "            best_solution = new_solution.copy()\n",
    "           # print(f'vns_algorithm: nadjeno je novo najbolje resenje: Nodes: {best_solution.number_of_nodes()} Edges:  {best_solution.number_of_edges()}')\n",
    "    \n",
    "    return best_solution"
   ]
  },
  {
   "cell_type": "code",
   "execution_count": 8,
   "id": "4626ae8e",
   "metadata": {},
   "outputs": [],
   "source": [
    "def greedy_algorithm(G,k,max_iter=5):\n",
    "    num_of_iter = 0;\n",
    "    best_solution = G.copy()\n",
    "    start_time = time.time()\n",
    "    while num_of_iter < max_iter:\n",
    "        new_solution = local_search(G,k,best_solution)\n",
    "        if solution_quality(new_solution) < solution_quality(best_solution):\n",
    "            best_solution = new_solution.copy()\n",
    "        num_of_iter+=1\n",
    "    end_time = time.time()  # Record the end time    \n",
    "    elapsed_time = end_time - start_time\n",
    "    return best_solution, elapsed_time\n",
    "        "
   ]
  },
  {
   "cell_type": "code",
   "execution_count": 9,
   "id": "600432ed",
   "metadata": {},
   "outputs": [],
   "source": [
    "def brute_force_algorithm(G, k):\n",
    "    all_nodes = list(G.nodes())\n",
    "    n = len(all_nodes)\n",
    "    start_time = time.time()\n",
    "    # Provera svih mogućih kombinacija čvorova od najmanjeg broja čvorova ka većima\n",
    "    for r in range(k, n+1):\n",
    "        for nodes in combinations(all_nodes, r):\n",
    "            subgraph = G.subgraph(nodes)\n",
    "            if is_k_connected(subgraph, k):\n",
    "                end_time = time.time()  # Record the end time\n",
    "                elapsed_time = end_time - start_time  # Calculate the elapsed time\n",
    "                print(f'Broj cvorova bruteforce resenja je: {subgraph.number_of_nodes()}')\n",
    "                print(f'Vreme potrebno za izvrsavanje bruteforce algoritma: {elapsed_time} seconds \\n')\n",
    "                return subgraph  # Vraća prvi graf koji zadovoljava uslov\n",
    "\n",
    "                \n",
    "    print(\"brute_force\")\n",
    "    return None"
   ]
  },
  {
   "cell_type": "code",
   "execution_count": null,
   "id": "7d60b15d",
   "metadata": {},
   "outputs": [],
   "source": []
  }
 ],
 "metadata": {
  "kernelspec": {
   "display_name": "Python 3 (ipykernel)",
   "language": "python",
   "name": "python3"
  },
  "language_info": {
   "codemirror_mode": {
    "name": "ipython",
    "version": 3
   },
   "file_extension": ".py",
   "mimetype": "text/x-python",
   "name": "python",
   "nbconvert_exporter": "python",
   "pygments_lexer": "ipython3",
   "version": "3.8.10"
  }
 },
 "nbformat": 4,
 "nbformat_minor": 5
}
