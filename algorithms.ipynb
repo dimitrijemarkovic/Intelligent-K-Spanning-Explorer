{
 "cells": [
  {
   "cell_type": "code",
   "execution_count": 1,
   "id": "deae6030",
   "metadata": {},
   "outputs": [],
   "source": [
    "import os\n",
    "import random\n",
    "import pickle\n",
    "import networkx as nx\n",
    "import math\n",
    "import time\n",
    "from time import perf_counter\n",
    "import matplotlib.pyplot as plt\n",
    "from itertools import combinations"
   ]
  },
  {
   "cell_type": "code",
   "execution_count": 2,
   "id": "ab56f5ef",
   "metadata": {},
   "outputs": [],
   "source": [
    "def solution_quality(solution):\n",
    "    return solution.number_of_edges()"
   ]
  },
  {
   "cell_type": "code",
   "execution_count": 3,
   "id": "11db280d",
   "metadata": {},
   "outputs": [],
   "source": [
    "def is_k_connected(G, k):\n",
    "    if G.number_of_nodes() < k:\n",
    "        return False\n",
    "    else:\n",
    "        return nx.node_connectivity(G) >= k"
   ]
  },
  {
   "cell_type": "code",
   "execution_count": 4,
   "id": "9866e66a",
   "metadata": {},
   "outputs": [],
   "source": [
    "def remove_nodes_with_less_than_k_neighbors(G, k):\n",
    "    changed = True\n",
    "    while changed:\n",
    "        changed = False\n",
    "        nodes_to_remove = [node for node in G.nodes if G.degree(node) < k]\n",
    "        if nodes_to_remove:\n",
    "            G.remove_nodes_from(nodes_to_remove)\n",
    "            changed = True\n",
    "    return G"
   ]
  },
  {
   "cell_type": "code",
   "execution_count": 5,
   "id": "616c65f9",
   "metadata": {},
   "outputs": [],
   "source": [
    "def shaking(G, k, current_solution):\n",
    "    modified_solution = current_solution.copy()\n",
    "\n",
    "    if random.choice([True, False]):\n",
    "        \n",
    "        potential_nodes_to_remove = list(modified_solution.nodes())\n",
    "        \n",
    "        weights_to_remove = [G.degree(node) for node in potential_nodes_to_remove]\n",
    "        \n",
    "        k = min(k, len(potential_nodes_to_remove))\n",
    "        \n",
    "        nodes_to_remove = random.choices(potential_nodes_to_remove, weights=weights_to_remove, k=k)\n",
    "        modified_solution.remove_nodes_from(nodes_to_remove)\n",
    "    else:\n",
    "        \n",
    "        potential_nodes = list(set(G.nodes()) - set(modified_solution.nodes()))\n",
    "        \n",
    "        weights = [G.degree(node) for node in potential_nodes]\n",
    "        \n",
    "        \n",
    "        if potential_nodes:\n",
    "            \n",
    "            nodes_to_add = random.choices(potential_nodes, weights=weights, k=math.floor(len(potential_nodes)/2))\n",
    "            modified_solution.add_nodes_from(nodes_to_add)\n",
    "            \n",
    "            \n",
    "            for node in nodes_to_add:\n",
    "                for neighbor in G.neighbors(node):\n",
    "                    \n",
    "                    if neighbor in modified_solution.nodes():\n",
    "                        modified_solution.add_edge(node, neighbor)\n",
    "    \n",
    "    \n",
    "   \n",
    "    modified_solution = remove_nodes_with_less_than_k_neighbors(modified_solution, k)\n",
    "   \n",
    "    if is_k_connected(modified_solution, k):\n",
    "        return modified_solution\n",
    "    else:\n",
    "        return current_solution"
   ]
  },
  {
   "cell_type": "code",
   "execution_count": 6,
   "id": "f9f19d64",
   "metadata": {},
   "outputs": [],
   "source": [
    "def local_search(G, k, current_solution):\n",
    "    temp_solution = current_solution.copy()\n",
    "    nodes = list(current_solution.nodes())\n",
    "    random.shuffle(nodes)\n",
    "    \n",
    "    for node in nodes:\n",
    "        temp_solution.remove_node(node)\n",
    "        \n",
    "        if not is_k_connected(temp_solution, k):\n",
    "            temp_solution.add_node(node)\n",
    "\n",
    "    temp_solution = G.subgraph(temp_solution.nodes())\n",
    "    \n",
    "\n",
    "    return temp_solution"
   ]
  },
  {
   "cell_type": "code",
   "execution_count": 8,
   "id": "3e45a7c2",
   "metadata": {},
   "outputs": [],
   "source": [
    "def vns_algorithm(G, k, max_iter=5):\n",
    "    if not is_k_connected(G, k):\n",
    "        print(\"vns_algorithm: prosledjeni graf ne ispunjava uslov k povezanosti\")\n",
    "        return None\n",
    "    start_time = perf_counter()\n",
    "    G = remove_nodes_with_less_than_k_neighbors(G, k)\n",
    "    best_solution = G.copy()\n",
    "    while perf_counter() - start_time < 30:\n",
    "        \n",
    "        shaken_solution = shaking(G, k, best_solution)\n",
    "        \n",
    "        new_solution = local_search(G, k, shaken_solution)\n",
    "        \n",
    "        \n",
    "        if solution_quality(new_solution) < solution_quality(best_solution):\n",
    "            best_solution = new_solution.copy()\n",
    "           \n",
    "    \n",
    "    return best_solution"
   ]
  },
  {
   "cell_type": "code",
   "execution_count": 9,
   "id": "b173239e",
   "metadata": {},
   "outputs": [],
   "source": [
    "def greedy_algorithm(G,k,max_iter=5):\n",
    "    num_of_iter = 0;\n",
    "    best_solution = G.copy()\n",
    "    start_time = time.time()\n",
    "    while num_of_iter < max_iter:\n",
    "        new_solution = local_search(G,k,best_solution)\n",
    "        if solution_quality(new_solution) < solution_quality(best_solution):\n",
    "            best_solution = new_solution.copy()\n",
    "        num_of_iter+=1\n",
    "    end_time = time.time()     \n",
    "    elapsed_time = end_time - start_time\n",
    "    return best_solution, elapsed_time\n",
    "        "
   ]
  },
  {
   "cell_type": "code",
   "execution_count": 10,
   "id": "44bae99e",
   "metadata": {},
   "outputs": [],
   "source": [
    "def brute_force_algorithm(G, k):\n",
    "    all_nodes = list(G.nodes())\n",
    "    n = len(all_nodes)\n",
    "    start_time = time.time()\n",
    "    \n",
    "    for r in range(k, n+1):\n",
    "        for nodes in combinations(all_nodes, r):\n",
    "            subgraph = G.subgraph(nodes)\n",
    "            if is_k_connected(subgraph, k):\n",
    "                end_time = time.time()  \n",
    "                elapsed_time = end_time - start_time  \n",
    "                print(f'Broj cvorova bruteforce resenja je: {subgraph.number_of_nodes()}')\n",
    "                print(f'Vreme potrebno za izvrsavanje bruteforce algoritma: {elapsed_time:.3f} seconds \\n')\n",
    "                return subgraph  \n",
    "\n",
    "                \n",
    "    print(\"brute_force\")\n",
    "    return None"
   ]
  },
  {
   "cell_type": "code",
   "execution_count": null,
   "id": "d16e3c2a-8299-44cc-8119-9c8e03dddcd0",
   "metadata": {},
   "outputs": [],
   "source": []
  }
 ],
 "metadata": {
  "kernelspec": {
   "display_name": "Python 3 (ipykernel)",
   "language": "python",
   "name": "python3"
  },
  "language_info": {
   "codemirror_mode": {
    "name": "ipython",
    "version": 3
   },
   "file_extension": ".py",
   "mimetype": "text/x-python",
   "name": "python",
   "nbconvert_exporter": "python",
   "pygments_lexer": "ipython3",
   "version": "3.8.5"
  }
 },
 "nbformat": 4,
 "nbformat_minor": 5
}
