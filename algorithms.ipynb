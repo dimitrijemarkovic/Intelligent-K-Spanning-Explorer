{
 "cells": [
  {
   "cell_type": "code",
   "execution_count": 11,
   "id": "deae6030",
   "metadata": {},
   "outputs": [],
   "source": [
    "import os\n",
    "import random\n",
    "import pickle\n",
    "import networkx as nx\n",
    "import math\n",
    "import time\n",
    "from time import perf_counter\n",
    "import matplotlib.pyplot as plt\n",
    "from itertools import combinations"
   ]
  },
  {
   "cell_type": "code",
   "execution_count": 12,
   "id": "ab56f5ef",
   "metadata": {},
   "outputs": [],
   "source": [
    "def solution_quality(solution):\n",
    "    return solution.number_of_edges()"
   ]
  },
  {
   "cell_type": "code",
   "execution_count": 13,
   "id": "11db280d",
   "metadata": {},
   "outputs": [],
   "source": [
    "def is_k_connected(G, k):\n",
    "    if G.number_of_nodes() < k:\n",
    "        return False\n",
    "    else:\n",
    "        return nx.node_connectivity(G) >= k"
   ]
  },
  {
   "cell_type": "code",
   "execution_count": 14,
   "id": "616c65f9",
   "metadata": {},
   "outputs": [],
   "source": [
    "def shaking1(G, k, current_solution):\n",
    "    modified_solution = current_solution.copy()\n",
    "\n",
    "    if random.choice([True, False]):\n",
    "        potential_edges_to_remove = list(modified_solution.edges())\n",
    "\n",
    "        edge_degrees_sum = {edge: modified_solution.degree(edge[0]) + modified_solution.degree(edge[1]) for edge in potential_edges_to_remove}\n",
    "        \n",
    "        edges_to_remove = random.choices(potential_edges_to_remove, weights=list(edge_degrees_sum.values()), k=k)\n",
    "        modified_solution.remove_edges_from(edges_to_remove)\n",
    "    else:\n",
    "        potential_edges = list(set(G.edges()) - set(modified_solution.edges()))\n",
    "        \n",
    "        edge_degrees_sum = {edge: modified_solution.degree(edge[0]) + modified_solution.degree(edge[1]) for edge in potential_edges}\n",
    "        \n",
    "        if potential_edges:\n",
    "            edges_to_add = random.choices(potential_edges, weights=list(edge_degrees_sum.values()), k=math.floor(len(potential_edges)/2))\n",
    "            modified_solution.add_edges_from(edges_to_add)\n",
    "            \n",
    "            for edge in edges_to_add:\n",
    "                node1, node2 = edge\n",
    "                \n",
    "                if node1 in modified_solution.nodes() and node2 in modified_solution.nodes():\n",
    "                    modified_solution.add_edge(node1, node2)\n",
    "\n",
    "    if is_k_connected(modified_solution, k):\n",
    "        return modified_solution\n",
    "    else:\n",
    "        return current_solution"
   ]
  },
  {
   "cell_type": "code",
   "execution_count": 15,
   "id": "670209f2-78ea-416c-888a-1ee9b2fbb30f",
   "metadata": {},
   "outputs": [],
   "source": [
    "def shaking2(G, k, best_solution, broj_dodavanja=20):\n",
    "    H = best_solution.copy()\n",
    "\n",
    "    grane_za_dodati = [(u, v) for u, v in G.edges() if not H.has_edge(u, v)]\n",
    "    random.shuffle(grane_za_dodati)\n",
    "\n",
    "    if len(G.edges()) - len(H.edges()) < broj_dodavanja:\n",
    "        broj_dodavanja = len(G.edges()) - len(H.edges())\n",
    "    broj_dodavanja = min(len(G.edges()), broj_dodavanja)\n",
    "    for grana in grane_za_dodati[:broj_dodavanja]:\n",
    "        H.add_edge(*grana)\n",
    "\n",
    "    trenutne_grane = [e for e in H.edges() if e not in grane_za_dodati]\n",
    "    random.shuffle(trenutne_grane)\n",
    "    for u, v in trenutne_grane:\n",
    "        H.remove_edge(u, v)\n",
    "        if not (nx.is_k_edge_connected(H, k) and all(H.degree(node) >= k for node in H)):\n",
    "            H.add_edge(u, v)\n",
    "\n",
    "    if is_k_connected(H, k):\n",
    "        return H\n",
    "    else:\n",
    "        return best_solution"
   ]
  },
  {
   "cell_type": "code",
   "execution_count": 16,
   "id": "f9f19d64",
   "metadata": {},
   "outputs": [],
   "source": [
    "def local_search(G, k):\n",
    "    H = G.copy()\n",
    "\n",
    "    grane = list(H.edges())\n",
    "    random.shuffle(grane) \n",
    "\n",
    "    for u, v in grane:\n",
    "        if H.degree(u) > k and H.degree(v) > k:\n",
    "            H.remove_edge(u, v)\n",
    "\n",
    "            if not nx.is_connected(H):\n",
    "                H.add_edge(u, v)\n",
    "\n",
    "    if is_k_connected(H, k):\n",
    "        return H\n",
    "    else:\n",
    "        return G"
   ]
  },
  {
   "cell_type": "code",
   "execution_count": 17,
   "id": "3e45a7c2",
   "metadata": {},
   "outputs": [],
   "source": [
    "def vns_algorithm(G, k, max_iter=5):\n",
    "    if not is_k_connected(G, k):\n",
    "        print(\"vns_algorithm: prosledjeni graf ne ispunjava uslov k povezanosti\")\n",
    "        return G \n",
    "    start_time = perf_counter()\n",
    "    best_solution1 = G.copy()\n",
    "    best_solution2 = G.copy()\n",
    "    while perf_counter() - start_time < 20:\n",
    "        shaken_solution = shaking1(G, k, best_solution1)\n",
    "        new_solution = local_search(shaken_solution, k)\n",
    "        if solution_quality(new_solution) < solution_quality(best_solution1):\n",
    "            best_solution1 = new_solution.copy()\n",
    "\n",
    "    start_time = perf_counter()\n",
    "    while perf_counter() - start_time < 20:\n",
    "        shaken_solution = shaking2(G, k, best_solution2)\n",
    "        new_solution = local_search(shaken_solution, k)\n",
    "        if solution_quality(new_solution) < solution_quality(best_solution2):\n",
    "            best_solution2 = new_solution.copy()\n",
    "            \n",
    "    return best_solution1, best_solution2\n"
   ]
  },
  {
   "cell_type": "code",
   "execution_count": 18,
   "id": "b173239e",
   "metadata": {},
   "outputs": [],
   "source": [
    "def greedy_algorithm(G, k, max_iter=5):\n",
    "    num_of_iter = 0;\n",
    "    best_solution = G.copy()\n",
    "    start_time = time.time()\n",
    "    while num_of_iter < max_iter:\n",
    "        new_solution = local_search(G, k)\n",
    "        if solution_quality(new_solution) < solution_quality(best_solution):\n",
    "            best_solution = new_solution.copy()\n",
    "        num_of_iter+=1\n",
    "    end_time = time.time()     \n",
    "    elapsed_time = end_time - start_time\n",
    "    return best_solution, elapsed_time\n",
    "        "
   ]
  },
  {
   "cell_type": "code",
   "execution_count": 19,
   "id": "d16e3c2a-8299-44cc-8119-9c8e03dddcd0",
   "metadata": {},
   "outputs": [],
   "source": [
    "import matplotlib.pyplot as plt\n",
    "def brute_force_min_k_connected_subgraph(G, k):\n",
    "    if not nx.is_k_edge_connected(G, k):\n",
    "        print(\"Graf nije k-povezan\")\n",
    "        return\n",
    "\n",
    "    najmanji_podgraf = None\n",
    "    najmanji_broj_grana = len(G.edges())\n",
    "\n",
    "    for r in range(math.floor((G.number_of_nodes() * k) / 2), len(G.edges()) + 1):\n",
    "        for edges in combinations(G.edges(), r):\n",
    "            H = G.edge_subgraph(edges).copy()\n",
    "            \n",
    "            if all(H.degree(node) >= k for node in H) and is_k_connected(H, k):\n",
    "                najmanji_podgraf = H\n",
    "                najmanji_broj_grana = r\n",
    "                break\n",
    "                \n",
    "        if najmanji_podgraf:\n",
    "            break\n",
    "\n",
    "    return najmanji_podgraf\n",
    "\n"
   ]
  },
  {
   "cell_type": "code",
   "execution_count": 10,
   "id": "804a29b8-28bc-4a53-89a2-c5403289d959",
   "metadata": {},
   "outputs": [],
   "source": [
    "# G = nx.erdos_renyi_graph(45, 0.5)\n",
    "# k = 2\n",
    "\n",
    "# print(\"Pocetni podgraf ima grana:\", len(G.edges()))\n",
    "# plt.figure(figsize=(8, 6))\n",
    "# nx.draw(G, with_labels=True, node_color='lightblue', edge_color='gray')\n",
    "# plt.title(\"Početni graf\")\n",
    "# plt.show()\n",
    "\n",
    "\n",
    "\n",
    "\n",
    "\n"
   ]
  },
  {
   "cell_type": "code",
   "execution_count": 101,
   "id": "d5158d20-e631-4d87-8b09-8ce8b477745f",
   "metadata": {},
   "outputs": [],
   "source": [
    "# najmanji_podgraf_bf = brute_force_min_k_connected_subgraph(G, k)\n",
    "\n",
    "# plt.figure(figsize=(8, 6))\n",
    "# nx.draw(najmanji_podgraf_bf, with_labels=True, node_color='lightgreen', edge_color='gray')\n",
    "# plt.title(\"BF resenje\")\n",
    "# plt.show()\n",
    "\n",
    "# if najmanji_podgraf_bf:\n",
    "#     print(\"Najmanji k-povezan podgraf ima grana:\", len(najmanji_podgraf_bf.edges()))\n",
    "# else:\n",
    "#     print(\"Nije pronađen k-povezan podgraf.\")"
   ]
  },
  {
   "cell_type": "code",
   "execution_count": null,
   "id": "a2fcedcd-ac39-4b8b-a23a-2c29cbc31ce7",
   "metadata": {},
   "outputs": [],
   "source": [
    "# k_connected_subgraph, elapsed_time = greedy_algorithm(G, k, 10)\n",
    "\n",
    "# if k_connected_subgraph:\n",
    "#     print(\"Najmanji k-povezan podgraf nadjen greedy algoritmom ima grana:\", len(k_connected_subgraph.edges()))\n",
    "# else:\n",
    "#     print(\"Nije pronađen k-povezan podgraf.\")\n",
    "\n",
    "# plt.figure(figsize=(8, 6))\n",
    "# nx.draw(k_connected_subgraph, with_labels=True, node_color='red', edge_color='gray')\n",
    "# plt.title(\"Greedy resenje\")\n",
    "# plt.show()"
   ]
  },
  {
   "cell_type": "code",
   "execution_count": null,
   "id": "e9752771-cec2-4094-94a8-6acb21f15ee1",
   "metadata": {},
   "outputs": [],
   "source": [
    "# najmanji_podgraf = vns_algorithm(G,k)\n",
    "\n",
    "# plt.figure(figsize=(8, 6))\n",
    "# nx.draw(najmanji_podgraf, with_labels=True, node_color='lightgreen', edge_color='gray')\n",
    "# plt.title(\"VNS resenje\")\n",
    "# plt.show()\n",
    "\n",
    "# print(\"Najmanji k-povezan podgraf ima grana:\", len(najmanji_podgraf.edges()))"
   ]
  },
  {
   "cell_type": "code",
   "execution_count": 102,
   "id": "ff954e33",
   "metadata": {},
   "outputs": [],
   "source": [
    "# G = nx.erdos_renyi_graph(12, 0.5)\n",
    "# k = 2\n",
    "\n",
    "# print(\"Pocetni podgraf ima grana:\", len(G.edges()))\n",
    "# plt.figure(figsize=(8, 6))\n",
    "# nx.draw(G, with_labels=True, node_color='lightblue', edge_color='gray')\n",
    "# plt.title(\"Početni graf\")\n",
    "# plt.show()"
   ]
  },
  {
   "cell_type": "code",
   "execution_count": 87,
   "id": "a7b7ab39",
   "metadata": {},
   "outputs": [],
   "source": [
    "# najmanji_podgraf_bf = brute_force_min_k_connected_subgraph(G, k)\n",
    "\n",
    "# plt.figure(figsize=(8, 6))\n",
    "# nx.draw(najmanji_podgraf_bf, with_labels=True, node_color='lightgreen', edge_color='gray')\n",
    "# plt.title(\"BF resenje\")\n",
    "# plt.show()\n",
    "\n",
    "# if najmanji_podgraf_bf:\n",
    "#     print(\"Najmanji k-povezan podgraf ima grana:\", len(najmanji_podgraf_bf.edges()))\n",
    "# else:\n",
    "#     print(\"Nije pronađen k-povezan podgraf.\")"
   ]
  },
  {
   "cell_type": "code",
   "execution_count": 88,
   "id": "f6decc0d",
   "metadata": {},
   "outputs": [],
   "source": [
    "# k_connected_subgraph, elapsed_time = greedy_algorithm(G, k, 10)\n",
    "\n",
    "# if k_connected_subgraph:\n",
    "#     print(\"Najmanji k-povezan podgraf nadjen greedy algoritmom ima grana:\", len(k_connected_subgraph.edges()))\n",
    "# else:\n",
    "#     print(\"Nije pronađen k-povezan podgraf.\")\n",
    "\n",
    "# plt.figure(figsize=(8, 6))\n",
    "# nx.draw(k_connected_subgraph, with_labels=True, node_color='red', edge_color='gray')\n",
    "# plt.title(\"Greedy resenje\")\n",
    "# plt.show()"
   ]
  },
  {
   "cell_type": "code",
   "execution_count": 89,
   "id": "68c02e7d",
   "metadata": {},
   "outputs": [],
   "source": [
    "# najmanji_podgraf = vns_algorithm(G,k)\n",
    "\n",
    "# plt.figure(figsize=(8, 6))\n",
    "# nx.draw(najmanji_podgraf, with_labels=True, node_color='lightgreen', edge_color='gray')\n",
    "# plt.title(\"VNS resenje\")\n",
    "# plt.show()\n",
    "\n",
    "# print(\"Najmanji k-povezan podgraf ima grana:\", len(najmanji_podgraf.edges()))"
   ]
  },
  {
   "cell_type": "code",
   "execution_count": null,
   "id": "7bb2a5ed",
   "metadata": {},
   "outputs": [],
   "source": []
  },
  {
   "cell_type": "code",
   "execution_count": null,
   "id": "d6f9910f-a7c1-4b69-bf25-a4a55c1ad460",
   "metadata": {},
   "outputs": [],
   "source": []
  },
  {
   "cell_type": "code",
   "execution_count": null,
   "id": "80019d70-13dd-4b1d-9449-0724e6232181",
   "metadata": {},
   "outputs": [],
   "source": []
  },
  {
   "cell_type": "code",
   "execution_count": null,
   "id": "3e9e4150-78ea-4c7e-90ff-c486316164ad",
   "metadata": {},
   "outputs": [],
   "source": []
  }
 ],
 "metadata": {
  "kernelspec": {
   "display_name": "Python 3 (ipykernel)",
   "language": "python",
   "name": "python3"
  },
  "language_info": {
   "codemirror_mode": {
    "name": "ipython",
    "version": 3
   },
   "file_extension": ".py",
   "mimetype": "text/x-python",
   "name": "python",
   "nbconvert_exporter": "python",
   "pygments_lexer": "ipython3",
   "version": "3.8.10"
  }
 },
 "nbformat": 4,
 "nbformat_minor": 5
}
